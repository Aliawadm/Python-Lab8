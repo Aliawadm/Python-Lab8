{
 "cells": [
  {
   "cell_type": "code",
   "execution_count": 1,
   "id": "9d16ebec-026a-4cb0-94e6-6d09003f6179",
   "metadata": {},
   "outputs": [],
   "source": [
    "class Product:\n",
    "  def __init__(self,name,price,quantity):\n",
    "    self.name =name\n",
    "    self.price =price\n",
    "    self.quantity =quantity\n",
    "  def update_q(self,new_quantity):\n",
    "    if new_quantity > 0:\n",
    "      self.quantity =new_quantity\n",
    "    else:\n",
    "      print(\"Enter only positive number!\")\n",
    "  def total_price(self):\n",
    "    return self.price*self.quantity"
   ]
  },
  {
   "cell_type": "code",
   "execution_count": 2,
   "id": "af823a8e-54bc-4ed4-97d1-26241c6d84b6",
   "metadata": {},
   "outputs": [],
   "source": [
    "class Inventory():\n",
    "  def __init__(self):\n",
    "    self.products = {}\n",
    "\n",
    "  def add(self,product):\n",
    "    self.products[product.name]=product\n",
    "\n",
    "  def update(self, product_name, new_quantity):\n",
    "    if product_name in self.products:\n",
    "      self.products[product_name].update_q(new_quantity)\n",
    "    else:\n",
    "      print(\"Not Found\")\n",
    "  \n",
    "  def remove(self , product_name):\n",
    "    if product_name in self.products:\n",
    "      del self.products[product_name]\n",
    "    else:\n",
    "      print(\"Not Found\")\n",
    "  \n",
    "  def total_inventory_price(self):\n",
    "    total = 0\n",
    "    for i in self.products.values():\n",
    "      total+=i.total_price()\n",
    "    return total"
   ]
  },
  {
   "cell_type": "code",
   "execution_count": 3,
   "id": "ce008967-a5cc-49aa-a716-0ee9171aa4c7",
   "metadata": {},
   "outputs": [
    {
     "name": "stdout",
     "output_type": "stream",
     "text": [
      "Initial Inventory Total Price: 31.25\n"
     ]
    }
   ],
   "source": [
    "product1 = Product(\"Apple\", 1.0, 10)\n",
    "product2 = Product(\"Banana\", 0.5, 20)\n",
    "product3 = Product(\"Orange\", 0.75, 15)\n",
    "\n",
    "inventory = Inventory()\n",
    "inventory.add(product1)\n",
    "inventory.add(product2)\n",
    "inventory.add(product3)\n",
    "\n",
    "print(\"Initial Inventory Total Price:\", inventory.total_inventory_price())\n",
    "\n",
    "inventory.update(\"Apple\", 5)\n",
    "inventory.remove(\"Banana\")\n",
    "\n",
    "new_product = Product(\"Grapes\", 2.0, 30)\n",
    "inventory.add(new_product)"
   ]
  },
  {
   "cell_type": "code",
   "execution_count": null,
   "id": "b9f97b1b-6dfd-49a9-8ada-a80fa34cee80",
   "metadata": {},
   "outputs": [],
   "source": []
  }
 ],
 "metadata": {
  "kernelspec": {
   "display_name": "Python 3 (ipykernel)",
   "language": "python",
   "name": "python3"
  },
  "language_info": {
   "codemirror_mode": {
    "name": "ipython",
    "version": 3
   },
   "file_extension": ".py",
   "mimetype": "text/x-python",
   "name": "python",
   "nbconvert_exporter": "python",
   "pygments_lexer": "ipython3",
   "version": "3.12.0"
  }
 },
 "nbformat": 4,
 "nbformat_minor": 5
}
